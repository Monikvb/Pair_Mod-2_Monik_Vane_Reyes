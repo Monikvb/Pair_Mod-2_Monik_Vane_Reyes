{
 "cells": [
  {
   "cell_type": "markdown",
   "metadata": {},
   "source": [
    "# Pair programming Intro a BBDD y Normalizazión\n",
    "\n",
    "Pair programming SQL- Extracción de Datos con SQL: Introducción y Normalización BBDD\n",
    "Pair programming SQL Intro a BBDD y Normalización\n",
    "El objetivo de este ejercicio es hacer las modificaciones necesarias a la siguiente tabla para que cumpla con las tres primeras formas normales:\n",
    "\n",
    "`id_alumna - nombre - dirección - id_asignatura - asignatura - nota`\n",
    "\n",
    "En este ejercicio no es necesario que se entregue nada!! Podéis hacer un dibujo con el esquema de las tablas o escribir un Markdown con las estructuras de las tablas."
   ]
  },
  {
   "cell_type": "markdown",
   "metadata": {},
   "source": [
    "Tablas1 = `[(Primary Key)id_alumna]` - nombre - apellido - ciudad - pais\n",
    "\n",
    "Tabla2 = `[(PK)id_asignatura]` - asignatura\n",
    "\n",
    "Tabla3 = `id_alumna`  -  `id_asignatura` - notas"
   ]
  }
 ],
 "metadata": {
  "language_info": {
   "name": "python"
  }
 },
 "nbformat": 4,
 "nbformat_minor": 2
}
